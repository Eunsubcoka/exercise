{
 "cells": [
  {
   "cell_type": "code",
   "execution_count": 30,
   "metadata": {},
   "outputs": [
    {
     "name": "stdout",
     "output_type": "stream",
     "text": [
      "avrage_price is 31.875\n"
     ]
    }
   ],
   "source": [
    "#리스트 제작\n",
    "hairstyles = [\"bouffant\",\"pixie\",\"dreadlocks\",\"crew\",\"bowl\",\"bob\",\"mohawk\",\"flattop\"]\n",
    "\n",
    "prices = [30,25,40,20,20,35,50,35]\n",
    "last_week = [2,3,5,8,4,4,6,2]\n",
    "total_price = 0\n",
    "for i in prices:\n",
    "    total_price += i \n",
    "    \n",
    "#평균가\n",
    "avrage_price = total_price/len(prices)\n",
    "print(\"avrage_price is\", avrage_price)\n"
   ]
  },
  {
   "cell_type": "code",
   "execution_count": 31,
   "metadata": {},
   "outputs": [
    {
     "name": "stdout",
     "output_type": "stream",
     "text": [
      "[25, 20, 35, 15, 15, 30, 45, 30]\n"
     ]
    }
   ],
   "source": [
    "#컴프리헨션\n",
    "new_prices = [i -5for i in prices]\n",
    "print(new_prices)"
   ]
  },
  {
   "cell_type": "code",
   "execution_count": 32,
   "metadata": {},
   "outputs": [
    {
     "name": "stdout",
     "output_type": "stream",
     "text": [
      "Average daily revenue is  155.0\n"
     ]
    }
   ],
   "source": [
    "#일 평균가\n",
    "total_revenue = 0\n",
    "\n",
    "for i in range(len(hairstyles)):\n",
    "    total_revenue += prices[i]*last_week[i]\n",
    "\n",
    "average_daily_revenue = total_revenue / 7\n",
    "print(\"Average daily revenue is \",average_daily_revenue)"
   ]
  },
  {
   "cell_type": "code",
   "execution_count": 29,
   "metadata": {},
   "outputs": [
    {
     "name": "stdout",
     "output_type": "stream",
     "text": [
      "['bouffant', 'pixie', 'crew', 'bowl']\n"
     ]
    }
   ],
   "source": [
    "# 30보다 적은 헤어스타일\n",
    "cuts_under_30 = [hairstyles[i]for i in range(len(new_prices)-1) if new_prices[i]<30]\n",
    "print(cuts_under_30)"
   ]
  },
  {
   "cell_type": "code",
   "execution_count": null,
   "metadata": {},
   "outputs": [],
   "source": []
  }
 ],
 "metadata": {
  "kernelspec": {
   "display_name": "Python 3",
   "language": "python",
   "name": "python3"
  },
  "language_info": {
   "codemirror_mode": {
    "name": "ipython",
    "version": 3
   },
   "file_extension": ".py",
   "mimetype": "text/x-python",
   "name": "python",
   "nbconvert_exporter": "python",
   "pygments_lexer": "ipython3",
   "version": "3.8.5"
  }
 },
 "nbformat": 4,
 "nbformat_minor": 4
}
